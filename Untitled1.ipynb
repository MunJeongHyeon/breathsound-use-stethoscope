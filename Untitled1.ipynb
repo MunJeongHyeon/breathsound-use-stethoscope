{
 "cells": [
  {
   "cell_type": "code",
   "execution_count": 7,
   "metadata": {},
   "outputs": [
    {
     "data": {
      "text/html": [
       "<div>\n",
       "<style scoped>\n",
       "    .dataframe tbody tr th:only-of-type {\n",
       "        vertical-align: middle;\n",
       "    }\n",
       "\n",
       "    .dataframe tbody tr th {\n",
       "        vertical-align: top;\n",
       "    }\n",
       "\n",
       "    .dataframe thead th {\n",
       "        text-align: right;\n",
       "    }\n",
       "</style>\n",
       "<table border=\"1\" class=\"dataframe\">\n",
       "  <thead>\n",
       "    <tr style=\"text-align: right;\">\n",
       "      <th></th>\n",
       "      <th>filename</th>\n",
       "      <th>category</th>\n",
       "      <th>class</th>\n",
       "    </tr>\n",
       "  </thead>\n",
       "  <tbody>\n",
       "    <tr>\n",
       "      <th>0</th>\n",
       "      <td>0001-2.wav</td>\n",
       "      <td>healthy</td>\n",
       "      <td>0</td>\n",
       "    </tr>\n",
       "    <tr>\n",
       "      <th>1</th>\n",
       "      <td>0002-1.wav</td>\n",
       "      <td>healthy</td>\n",
       "      <td>0</td>\n",
       "    </tr>\n",
       "    <tr>\n",
       "      <th>2</th>\n",
       "      <td>0002-2.wav</td>\n",
       "      <td>healthy</td>\n",
       "      <td>0</td>\n",
       "    </tr>\n",
       "    <tr>\n",
       "      <th>3</th>\n",
       "      <td>0002-3.wav</td>\n",
       "      <td>healthy</td>\n",
       "      <td>0</td>\n",
       "    </tr>\n",
       "    <tr>\n",
       "      <th>4</th>\n",
       "      <td>0002-4.wav</td>\n",
       "      <td>healthy</td>\n",
       "      <td>0</td>\n",
       "    </tr>\n",
       "  </tbody>\n",
       "</table>\n",
       "</div>"
      ],
      "text/plain": [
       "     filename category  class\n",
       "0  0001-2.wav  healthy      0\n",
       "1  0002-1.wav  healthy      0\n",
       "2  0002-2.wav  healthy      0\n",
       "3  0002-3.wav  healthy      0\n",
       "4  0002-4.wav  healthy      0"
      ]
     },
     "execution_count": 7,
     "metadata": {},
     "output_type": "execute_result"
    }
   ],
   "source": [
    "import pandas as pd\n",
    "from pathlib import Path\n",
    "\n",
    "metadata_file = 'data/data2.csv'\n",
    "df = pd.read_csv(metadata_file)\n",
    "df.head()"
   ]
  },
  {
   "cell_type": "code",
   "execution_count": 10,
   "metadata": {},
   "outputs": [
    {
     "data": {
      "text/html": [
       "<div>\n",
       "<style scoped>\n",
       "    .dataframe tbody tr th:only-of-type {\n",
       "        vertical-align: middle;\n",
       "    }\n",
       "\n",
       "    .dataframe tbody tr th {\n",
       "        vertical-align: top;\n",
       "    }\n",
       "\n",
       "    .dataframe thead th {\n",
       "        text-align: right;\n",
       "    }\n",
       "</style>\n",
       "<table border=\"1\" class=\"dataframe\">\n",
       "  <thead>\n",
       "    <tr style=\"text-align: right;\">\n",
       "      <th></th>\n",
       "      <th>relative_path</th>\n",
       "      <th>class</th>\n",
       "    </tr>\n",
       "  </thead>\n",
       "  <tbody>\n",
       "    <tr>\n",
       "      <th>0</th>\n",
       "      <td>/0001-2.wav</td>\n",
       "      <td>0</td>\n",
       "    </tr>\n",
       "    <tr>\n",
       "      <th>1</th>\n",
       "      <td>/0002-1.wav</td>\n",
       "      <td>0</td>\n",
       "    </tr>\n",
       "    <tr>\n",
       "      <th>2</th>\n",
       "      <td>/0002-2.wav</td>\n",
       "      <td>0</td>\n",
       "    </tr>\n",
       "    <tr>\n",
       "      <th>3</th>\n",
       "      <td>/0002-3.wav</td>\n",
       "      <td>0</td>\n",
       "    </tr>\n",
       "    <tr>\n",
       "      <th>4</th>\n",
       "      <td>/0002-4.wav</td>\n",
       "      <td>0</td>\n",
       "    </tr>\n",
       "  </tbody>\n",
       "</table>\n",
       "</div>"
      ],
      "text/plain": [
       "  relative_path  class\n",
       "0   /0001-2.wav      0\n",
       "1   /0002-1.wav      0\n",
       "2   /0002-2.wav      0\n",
       "3   /0002-3.wav      0\n",
       "4   /0002-4.wav      0"
      ]
     },
     "execution_count": 10,
     "metadata": {},
     "output_type": "execute_result"
    }
   ],
   "source": [
    "df['relative_path'] = '/' + df['filename'].astype(str)\n",
    "df = df[['relative_path', 'class']]\n",
    "df.head()"
   ]
  },
  {
   "cell_type": "code",
   "execution_count": 11,
   "metadata": {},
   "outputs": [],
   "source": [
    "data_path = 'data/'"
   ]
  },
  {
   "cell_type": "code",
   "execution_count": 78,
   "metadata": {},
   "outputs": [
    {
     "data": {
      "text/html": [
       "<div>\n",
       "<style scoped>\n",
       "    .dataframe tbody tr th:only-of-type {\n",
       "        vertical-align: middle;\n",
       "    }\n",
       "\n",
       "    .dataframe tbody tr th {\n",
       "        vertical-align: top;\n",
       "    }\n",
       "\n",
       "    .dataframe thead th {\n",
       "        text-align: right;\n",
       "    }\n",
       "</style>\n",
       "<table border=\"1\" class=\"dataframe\">\n",
       "  <thead>\n",
       "    <tr style=\"text-align: right;\">\n",
       "      <th></th>\n",
       "      <th>filename</th>\n",
       "      <th>category</th>\n",
       "      <th>class</th>\n",
       "    </tr>\n",
       "  </thead>\n",
       "  <tbody>\n",
       "    <tr>\n",
       "      <th>0</th>\n",
       "      <td>0001-2.wav</td>\n",
       "      <td>healthy</td>\n",
       "      <td>0</td>\n",
       "    </tr>\n",
       "    <tr>\n",
       "      <th>1</th>\n",
       "      <td>0002-1.wav</td>\n",
       "      <td>healthy</td>\n",
       "      <td>0</td>\n",
       "    </tr>\n",
       "    <tr>\n",
       "      <th>2</th>\n",
       "      <td>0002-2.wav</td>\n",
       "      <td>healthy</td>\n",
       "      <td>0</td>\n",
       "    </tr>\n",
       "    <tr>\n",
       "      <th>3</th>\n",
       "      <td>0002-3.wav</td>\n",
       "      <td>healthy</td>\n",
       "      <td>0</td>\n",
       "    </tr>\n",
       "    <tr>\n",
       "      <th>4</th>\n",
       "      <td>0002-4.wav</td>\n",
       "      <td>healthy</td>\n",
       "      <td>0</td>\n",
       "    </tr>\n",
       "  </tbody>\n",
       "</table>\n",
       "</div>"
      ],
      "text/plain": [
       "     filename category  class\n",
       "0  0001-2.wav  healthy      0\n",
       "1  0002-1.wav  healthy      0\n",
       "2  0002-2.wav  healthy      0\n",
       "3  0002-3.wav  healthy      0\n",
       "4  0002-4.wav  healthy      0"
      ]
     },
     "execution_count": 78,
     "metadata": {},
     "output_type": "execute_result"
    }
   ],
   "source": [
    "healthy_file = 'data/healthy.csv'\n",
    "healthy = pd.read_csv(healthy_file)\n",
    "healthy.head()"
   ]
  },
  {
   "cell_type": "code",
   "execution_count": 79,
   "metadata": {},
   "outputs": [
    {
     "data": {
      "text/html": [
       "<div>\n",
       "<style scoped>\n",
       "    .dataframe tbody tr th:only-of-type {\n",
       "        vertical-align: middle;\n",
       "    }\n",
       "\n",
       "    .dataframe tbody tr th {\n",
       "        vertical-align: top;\n",
       "    }\n",
       "\n",
       "    .dataframe thead th {\n",
       "        text-align: right;\n",
       "    }\n",
       "</style>\n",
       "<table border=\"1\" class=\"dataframe\">\n",
       "  <thead>\n",
       "    <tr style=\"text-align: right;\">\n",
       "      <th></th>\n",
       "      <th>filename</th>\n",
       "      <th>category</th>\n",
       "      <th>class</th>\n",
       "    </tr>\n",
       "  </thead>\n",
       "  <tbody>\n",
       "    <tr>\n",
       "      <th>0</th>\n",
       "      <td>0001-1.wav</td>\n",
       "      <td>wheezing</td>\n",
       "      <td>1</td>\n",
       "    </tr>\n",
       "    <tr>\n",
       "      <th>1</th>\n",
       "      <td>0001-3.wav</td>\n",
       "      <td>wheezing</td>\n",
       "      <td>1</td>\n",
       "    </tr>\n",
       "    <tr>\n",
       "      <th>2</th>\n",
       "      <td>0001-4.wav</td>\n",
       "      <td>wheezing</td>\n",
       "      <td>1</td>\n",
       "    </tr>\n",
       "    <tr>\n",
       "      <th>3</th>\n",
       "      <td>0020-1.wav</td>\n",
       "      <td>wheezing</td>\n",
       "      <td>1</td>\n",
       "    </tr>\n",
       "    <tr>\n",
       "      <th>4</th>\n",
       "      <td>0020-3.wav</td>\n",
       "      <td>wheezing</td>\n",
       "      <td>1</td>\n",
       "    </tr>\n",
       "  </tbody>\n",
       "</table>\n",
       "</div>"
      ],
      "text/plain": [
       "     filename  category  class\n",
       "0  0001-1.wav  wheezing      1\n",
       "1  0001-3.wav  wheezing      1\n",
       "2  0001-4.wav  wheezing      1\n",
       "3  0020-1.wav  wheezing      1\n",
       "4  0020-3.wav  wheezing      1"
      ]
     },
     "execution_count": 79,
     "metadata": {},
     "output_type": "execute_result"
    }
   ],
   "source": [
    "wheezing_file = 'data/wheezing.csv'\n",
    "wheezing = pd.read_csv(wheezing_file)\n",
    "wheezing.head()"
   ]
  },
  {
   "cell_type": "code",
   "execution_count": 19,
   "metadata": {},
   "outputs": [
    {
     "name": "stdout",
     "output_type": "stream",
     "text": [
      "(178, 3)\n"
     ]
    }
   ],
   "source": [
    "print(healthy.shape)"
   ]
  },
  {
   "cell_type": "code",
   "execution_count": 20,
   "metadata": {
    "scrolled": true
   },
   "outputs": [
    {
     "name": "stdout",
     "output_type": "stream",
     "text": [
      "(85, 3)\n"
     ]
    }
   ],
   "source": [
    "print(wheezing.shape)"
   ]
  },
  {
   "cell_type": "code",
   "execution_count": 80,
   "metadata": {},
   "outputs": [
    {
     "data": {
      "text/html": [
       "<div>\n",
       "<style scoped>\n",
       "    .dataframe tbody tr th:only-of-type {\n",
       "        vertical-align: middle;\n",
       "    }\n",
       "\n",
       "    .dataframe tbody tr th {\n",
       "        vertical-align: top;\n",
       "    }\n",
       "\n",
       "    .dataframe thead th {\n",
       "        text-align: right;\n",
       "    }\n",
       "</style>\n",
       "<table border=\"1\" class=\"dataframe\">\n",
       "  <thead>\n",
       "    <tr style=\"text-align: right;\">\n",
       "      <th></th>\n",
       "      <th>relative_path</th>\n",
       "      <th>class</th>\n",
       "    </tr>\n",
       "  </thead>\n",
       "  <tbody>\n",
       "    <tr>\n",
       "      <th>0</th>\n",
       "      <td>data/0001-2.wav</td>\n",
       "      <td>0</td>\n",
       "    </tr>\n",
       "    <tr>\n",
       "      <th>1</th>\n",
       "      <td>data/0002-1.wav</td>\n",
       "      <td>0</td>\n",
       "    </tr>\n",
       "    <tr>\n",
       "      <th>2</th>\n",
       "      <td>data/0002-2.wav</td>\n",
       "      <td>0</td>\n",
       "    </tr>\n",
       "    <tr>\n",
       "      <th>3</th>\n",
       "      <td>data/0002-3.wav</td>\n",
       "      <td>0</td>\n",
       "    </tr>\n",
       "    <tr>\n",
       "      <th>4</th>\n",
       "      <td>data/0002-4.wav</td>\n",
       "      <td>0</td>\n",
       "    </tr>\n",
       "  </tbody>\n",
       "</table>\n",
       "</div>"
      ],
      "text/plain": [
       "     relative_path  class\n",
       "0  data/0001-2.wav      0\n",
       "1  data/0002-1.wav      0\n",
       "2  data/0002-2.wav      0\n",
       "3  data/0002-3.wav      0\n",
       "4  data/0002-4.wav      0"
      ]
     },
     "execution_count": 80,
     "metadata": {},
     "output_type": "execute_result"
    }
   ],
   "source": [
    "healthy['relative_path'] = 'data/' + healthy['filename'].astype(str)\n",
    "healthy = healthy[['relative_path', 'class']]\n",
    "healthy.head()"
   ]
  },
  {
   "cell_type": "code",
   "execution_count": 81,
   "metadata": {},
   "outputs": [
    {
     "data": {
      "text/html": [
       "<div>\n",
       "<style scoped>\n",
       "    .dataframe tbody tr th:only-of-type {\n",
       "        vertical-align: middle;\n",
       "    }\n",
       "\n",
       "    .dataframe tbody tr th {\n",
       "        vertical-align: top;\n",
       "    }\n",
       "\n",
       "    .dataframe thead th {\n",
       "        text-align: right;\n",
       "    }\n",
       "</style>\n",
       "<table border=\"1\" class=\"dataframe\">\n",
       "  <thead>\n",
       "    <tr style=\"text-align: right;\">\n",
       "      <th></th>\n",
       "      <th>relative_path</th>\n",
       "      <th>class</th>\n",
       "    </tr>\n",
       "  </thead>\n",
       "  <tbody>\n",
       "    <tr>\n",
       "      <th>0</th>\n",
       "      <td>data/0001-1.wav</td>\n",
       "      <td>1</td>\n",
       "    </tr>\n",
       "    <tr>\n",
       "      <th>1</th>\n",
       "      <td>data/0001-3.wav</td>\n",
       "      <td>1</td>\n",
       "    </tr>\n",
       "    <tr>\n",
       "      <th>2</th>\n",
       "      <td>data/0001-4.wav</td>\n",
       "      <td>1</td>\n",
       "    </tr>\n",
       "    <tr>\n",
       "      <th>3</th>\n",
       "      <td>data/0020-1.wav</td>\n",
       "      <td>1</td>\n",
       "    </tr>\n",
       "    <tr>\n",
       "      <th>4</th>\n",
       "      <td>data/0020-3.wav</td>\n",
       "      <td>1</td>\n",
       "    </tr>\n",
       "  </tbody>\n",
       "</table>\n",
       "</div>"
      ],
      "text/plain": [
       "     relative_path  class\n",
       "0  data/0001-1.wav      1\n",
       "1  data/0001-3.wav      1\n",
       "2  data/0001-4.wav      1\n",
       "3  data/0020-1.wav      1\n",
       "4  data/0020-3.wav      1"
      ]
     },
     "execution_count": 81,
     "metadata": {},
     "output_type": "execute_result"
    }
   ],
   "source": [
    "wheezing['relative_path'] = 'data/' + wheezing['filename'].astype(str)\n",
    "wheezing = wheezing[['relative_path', 'class']]\n",
    "wheezing.head()"
   ]
  },
  {
   "cell_type": "code",
   "execution_count": 103,
   "metadata": {
    "scrolled": true
   },
   "outputs": [
    {
     "data": {
      "text/plain": [
       "9.008958333333334"
      ]
     },
     "execution_count": 103,
     "metadata": {},
     "output_type": "execute_result"
    }
   ],
   "source": [
    "import librosa\n",
    "librosa.get_duration(filename=wheezing[0])"
   ]
  },
  {
   "cell_type": "code",
   "execution_count": 88,
   "metadata": {},
   "outputs": [],
   "source": [
    "wheezing=wheezing['relative_path']"
   ]
  },
  {
   "cell_type": "code",
   "execution_count": 86,
   "metadata": {},
   "outputs": [
    {
     "data": {
      "text/plain": [
       "85"
      ]
     },
     "execution_count": 86,
     "metadata": {},
     "output_type": "execute_result"
    }
   ],
   "source": [
    "len(wheezing)"
   ]
  },
  {
   "cell_type": "code",
   "execution_count": 91,
   "metadata": {},
   "outputs": [],
   "source": [
    "healthy=healthy['relative_path']"
   ]
  },
  {
   "cell_type": "code",
   "execution_count": 92,
   "metadata": {},
   "outputs": [
    {
     "data": {
      "text/plain": [
       "178"
      ]
     },
     "execution_count": 92,
     "metadata": {},
     "output_type": "execute_result"
    }
   ],
   "source": [
    "len(healthy)"
   ]
  },
  {
   "cell_type": "code",
   "execution_count": 132,
   "metadata": {},
   "outputs": [],
   "source": [
    "wheezing_time=[0 for i in range(len(wheezing))]"
   ]
  },
  {
   "cell_type": "code",
   "execution_count": 135,
   "metadata": {},
   "outputs": [],
   "source": [
    "healthy_time=[0 for i in range(len(healthy))]"
   ]
  },
  {
   "cell_type": "code",
   "execution_count": 133,
   "metadata": {},
   "outputs": [],
   "source": [
    "for i in range(len(wheezing)):\n",
    "    wheezing_time[i] = librosa.get_duration(filename=wheezing[i])"
   ]
  },
  {
   "cell_type": "code",
   "execution_count": 136,
   "metadata": {},
   "outputs": [],
   "source": [
    "for i in range(len(healthy)):\n",
    "    healthy_time[i] = librosa.get_duration(filename=healthy[i])"
   ]
  },
  {
   "cell_type": "code",
   "execution_count": 134,
   "metadata": {
    "collapsed": true
   },
   "outputs": [
    {
     "data": {
      "text/plain": [
       "[9.008958333333334,\n",
       " 6.547979166666667,\n",
       " 5.1079791666666665,\n",
       " 7.893979166666667,\n",
       " 5.989979166666667,\n",
       " 5.943979166666667,\n",
       " 8.451979166666666,\n",
       " 2.4609791666666667,\n",
       " 10.958979591836735,\n",
       " 3.447981859410431,\n",
       " 4.828979591836735,\n",
       " 4.2719954648526075,\n",
       " 13.980625,\n",
       " 5.638958333333333,\n",
       " 5.2385625,\n",
       " 7.2071875,\n",
       " 4.804791666666667,\n",
       " 8.375020833333334,\n",
       " 7.1738333333333335,\n",
       " 9.94325,\n",
       " 12.345666666666666,\n",
       " 9.7430625,\n",
       " 9.44275,\n",
       " 13.762583333333334,\n",
       " 11.518520833333334,\n",
       " 13.813791666666667,\n",
       " 7.307291666666667,\n",
       " 7.807791666666667,\n",
       " 9.142458333333334,\n",
       " 12.912895833333334,\n",
       " 5.872520833333334,\n",
       " 10.076729166666667,\n",
       " 12.112083333333333,\n",
       " 9.042354166666666,\n",
       " 5.071729166666667,\n",
       " 5.105083333333333,\n",
       " 14.814791666666666,\n",
       " 9.609583333333333,\n",
       " 10.543854166666666,\n",
       " 8.141458333333333,\n",
       " 6.373020833333333,\n",
       " 10.543854166666666,\n",
       " 5.2051875,\n",
       " 5.2051875,\n",
       " 8.174833333333334,\n",
       " 7.474125,\n",
       " 14.94825,\n",
       " 12.5125,\n",
       " 8.641958333333333,\n",
       " 9.342666666666666,\n",
       " 7.774416666666666,\n",
       " 10.877520833333334,\n",
       " 9.843166666666667,\n",
       " 12.2121875,\n",
       " 4.070729166666666,\n",
       " 7.674333333333333,\n",
       " 5.605583333333334,\n",
       " 3.470125,\n",
       " 4.037354166666667,\n",
       " 9.609583333333333,\n",
       " 20.153458333333333,\n",
       " 6.773416666666667,\n",
       " 8.141458333333333,\n",
       " 7.307291666666667,\n",
       " 7.040354166666667,\n",
       " 19.152458333333332,\n",
       " 7.474125,\n",
       " 9.2091875,\n",
       " 9.976625,\n",
       " 10.94425,\n",
       " 13.146458333333333,\n",
       " 11.111083333333333,\n",
       " 8.509104166666667,\n",
       " 10.977625,\n",
       " 4.471125,\n",
       " 6.606583333333333,\n",
       " 6.840166666666667,\n",
       " 13.780416666666667,\n",
       " 18.885520833333334,\n",
       " 8.808791666666666,\n",
       " 13.780416666666667,\n",
       " 27.360666666666667,\n",
       " 14.414395833333334,\n",
       " 10.94425,\n",
       " 6.473125]"
      ]
     },
     "execution_count": 134,
     "metadata": {},
     "output_type": "execute_result"
    }
   ],
   "source": [
    "wheezing_time"
   ]
  },
  {
   "cell_type": "code",
   "execution_count": 137,
   "metadata": {
    "collapsed": true
   },
   "outputs": [
    {
     "data": {
      "text/plain": [
       "[4.225979166666667,\n",
       " 8.078958333333333,\n",
       " 5.757979166666667,\n",
       " 7.754979166666667,\n",
       " 6.129979166666667,\n",
       " 10.539979166666667,\n",
       " 6.6399791666666665,\n",
       " 5.153979166666667,\n",
       " 2.8319791666666667,\n",
       " 5.850979166666667,\n",
       " 3.6219791666666667,\n",
       " 4.642979166666667,\n",
       " 4.782979166666666,\n",
       " 8.265979166666666,\n",
       " 7.893979166666667,\n",
       " 6.221979166666666,\n",
       " 6.454979166666667,\n",
       " 7.6159791666666665,\n",
       " 4.8289583333333335,\n",
       " 3.2039791666666666,\n",
       " 7.243979166666667,\n",
       " 6.128958333333333,\n",
       " 7.394979166666666,\n",
       " 9.983979166666666,\n",
       " 4.3179791666666665,\n",
       " 6.407979166666666,\n",
       " 6.221979166666666,\n",
       " 3.3899791666666665,\n",
       " 4.550979166666667,\n",
       " 11.980979166666666,\n",
       " 12.305979166666667,\n",
       " 3.7149791666666667,\n",
       " 7.754979166666667,\n",
       " 4.550979166666667,\n",
       " 7.568958333333334,\n",
       " 3.632979166666667,\n",
       " 5.989979166666667,\n",
       " 8.822979166666666,\n",
       " 5.664979166666667,\n",
       " 5.386979166666666,\n",
       " 3.528958333333333,\n",
       " 4.271979166666667,\n",
       " 4.3179791666666665,\n",
       " 4.3179791666666665,\n",
       " 3.7609791666666665,\n",
       " 11.330979166666667,\n",
       " 10.726979166666666,\n",
       " 10.819979166666666,\n",
       " 8.079979166666666,\n",
       " 5.5839791666666665,\n",
       " 18.249979166666666,\n",
       " 4.550979166666667,\n",
       " 3.8539791666666665,\n",
       " 6.407979166666666,\n",
       " 3.1569791666666664,\n",
       " 3.7149791666666667,\n",
       " 3.8999791666666668,\n",
       " 7.847979166666667,\n",
       " 9.751979166666667,\n",
       " 8.173416666666666,\n",
       " 7.382979166666667,\n",
       " 5.525979166666667,\n",
       " 2.4139791666666666,\n",
       " 3.8539791666666665,\n",
       " 3.435979166666667,\n",
       " 3.3899791666666665,\n",
       " 3.6679791666666666,\n",
       " 2.2749791666666668,\n",
       " 6.547979166666667,\n",
       " 3.7609791666666665,\n",
       " 3.4819791666666666,\n",
       " 5.386979166666666,\n",
       " 3.0179791666666667,\n",
       " 3.1569791666666664,\n",
       " 4.503979166666666,\n",
       " 6.314979166666666,\n",
       " 4.875979166666666,\n",
       " 5.432979166666667,\n",
       " 4.457979166666667,\n",
       " 5.2939791666666665,\n",
       " 2.7859791666666665,\n",
       " 2.738958333333333,\n",
       " 13.002979166666666,\n",
       " 4.875979166666666,\n",
       " 2.5069791666666665,\n",
       " 4.875979166666666,\n",
       " 3.9929791666666667,\n",
       " 4.364979166666667,\n",
       " 3.064979166666667,\n",
       " 5.757979166666667,\n",
       " 5.0149791666666665,\n",
       " 4.550979166666667,\n",
       " 5.432979166666667,\n",
       " 4.735979166666667,\n",
       " 2.7859791666666665,\n",
       " 4.225979166666667,\n",
       " 5.153979166666667,\n",
       " 3.4819791666666666,\n",
       " 3.0179791666666667,\n",
       " 13.234979166666667,\n",
       " 6.407979166666666,\n",
       " 9.611979166666666,\n",
       " 9.890979166666666,\n",
       " 5.153979166666667,\n",
       " 5.0149791666666665,\n",
       " 7.754979166666667,\n",
       " 5.153979166666667,\n",
       " 7.6159791666666665,\n",
       " 6.361979166666667,\n",
       " 3.249979166666667,\n",
       " 3.7149791666666667,\n",
       " 8.868958333333333,\n",
       " 4.085979166666666,\n",
       " 6.964979166666667,\n",
       " 2.6469791666666667,\n",
       " 9.612979166666667,\n",
       " 7.197979166666666,\n",
       " 3.5749791666666666,\n",
       " 2.6469791666666667,\n",
       " 4.039979166666667,\n",
       " 4.782979166666666,\n",
       " 4.085979166666666,\n",
       " 4.178958333333333,\n",
       " 11.759979166666668,\n",
       " 9.704979166666666,\n",
       " 8.451979166666666,\n",
       " 7.754979166666667,\n",
       " 6.7329791666666665,\n",
       " 2.181979166666667,\n",
       " 4.515979166666667,\n",
       " 3.7149791666666667,\n",
       " 5.850979166666667,\n",
       " 9.379979166666667,\n",
       " 10.633979166666666,\n",
       " 4.178958333333333,\n",
       " 6.221979166666666,\n",
       " 8.172979166666666,\n",
       " 9.240979166666667,\n",
       " 13.048958333333333,\n",
       " 8.822979166666666,\n",
       " 7.754979166666667,\n",
       " 4.875979166666666,\n",
       " 6.686979166666666,\n",
       " 5.1079791666666665,\n",
       " 7.429979166666667,\n",
       " 6.082979166666667,\n",
       " 4.921979166666667,\n",
       " 6.001979166666667,\n",
       " 5.943979166666667,\n",
       " 6.082979166666667,\n",
       " 9.519979166666667,\n",
       " 2.971979166666667,\n",
       " 4.642979166666667,\n",
       " 8.777125,\n",
       " 6.918958333333333,\n",
       " 15.277979166666666,\n",
       " 15.509979166666668,\n",
       " 6.686979166666666,\n",
       " 3.435979166666667,\n",
       " 5.6189583333333335,\n",
       " 13.048979591836735,\n",
       " 7.104988662131519,\n",
       " 7.874520833333333,\n",
       " 5.405395833333333,\n",
       " 7.540854166666667,\n",
       " 8.425354166666667,\n",
       " 10.57375,\n",
       " 5.872520833333334,\n",
       " 12.145458333333334,\n",
       " 5.071729166666667,\n",
       " 6.673333333333333,\n",
       " 5.472125,\n",
       " 7.1738333333333335,\n",
       " 6.306291666666667,\n",
       " 11.678333333333333,\n",
       " 7.674333333333333,\n",
       " 4.971625,\n",
       " 8.775416666666667]"
      ]
     },
     "execution_count": 137,
     "metadata": {},
     "output_type": "execute_result"
    }
   ],
   "source": [
    "healthy_time"
   ]
  },
  {
   "cell_type": "code",
   "execution_count": 140,
   "metadata": {},
   "outputs": [
    {
     "name": "stdout",
     "output_type": "stream",
     "text": [
      "9.19225783146592\n"
     ]
    }
   ],
   "source": [
    "print(sum(wheezing_time)/len(wheezing_time))"
   ]
  },
  {
   "cell_type": "code",
   "execution_count": 141,
   "metadata": {
    "scrolled": true
   },
   "outputs": [
    {
     "name": "stdout",
     "output_type": "stream",
     "text": [
      "6.3071508047975735\n"
     ]
    }
   ],
   "source": [
    "print(sum(healthy_time)/len(healthy_time))"
   ]
  },
  {
   "cell_type": "code",
   "execution_count": 144,
   "metadata": {},
   "outputs": [],
   "source": [
    "import matplotlib.pyplot as plt"
   ]
  },
  {
   "cell_type": "code",
   "execution_count": 149,
   "metadata": {},
   "outputs": [
    {
     "data": {
      "image/png": "[encoded data removed]",
      "text/plain": [
       "<Figure size 432x288 with 1 Axes>"
      ]
     },
     "metadata": {
      "needs_background": "light"
     },
     "output_type": "display_data"
    }
   ],
   "source": [
    "plt.boxplot(wheezing_time)\n",
    "plt.show()"
   ]
  },
  {
   "cell_type": "code",
   "execution_count": 148,
   "metadata": {
    "scrolled": true
   },
   "outputs": [
    {
     "data": {
      "image/png": "[encoded data removed]",
      "text/plain": [
       "<Figure size 432x288 with 1 Axes>"
      ]
     },
     "metadata": {
      "needs_background": "light"
     },
     "output_type": "display_data"
    }
   ],
   "source": [
    "plt.boxplot(healthy_time)\n",
    "plt.show()"
   ]
  },
  {
   "cell_type": "code",
   "execution_count": 152,
   "metadata": {},
   "outputs": [
    {
     "data": {
      "image/png": "[encoded data removed]",
      "text/plain": [
       "<Figure size 432x288 with 1 Axes>"
      ]
     },
     "metadata": {
      "needs_background": "light"
     },
     "output_type": "display_data"
    }
   ],
   "source": [
    "fig, ax = plt.subplots()\n",
    "\n",
    "ax.boxplot([wheezing_time, healthy_time])\n",
    "\n",
    "plt.title('compare audio time')\n",
    "\n",
    "plt.xticks([1, 2], \n",
    "\n",
    "           ['wheezing_time', 'healthy_time'])\n",
    "\n",
    "plt.show()\n"
   ]
  },
  {
   "cell_type": "code",
   "execution_count": 151,
   "metadata": {},
   "outputs": [
    {
     "data": {
      "text/plain": [
       "Ttest_indResult(statistic=6.584701608694893, pvalue=2.4931849841782467e-10)"
      ]
     },
     "execution_count": 151,
     "metadata": {},
     "output_type": "execute_result"
    }
   ],
   "source": [
    "import scipy.stats\n",
    "\n",
    "scipy.stats.ttest_ind(wheezing_time, healthy_time, equal_var=True)"
   ]
  }
 ],
 "metadata": {
  "kernelspec": {
   "display_name": "Python 3 (ipykernel)",
   "language": "python",
   "name": "python3"
  },
  "language_info": {
   "codemirror_mode": {
    "name": "ipython",
    "version": 3
   },
   "file_extension": ".py",
   "mimetype": "text/x-python",
   "name": "python",
   "nbconvert_exporter": "python",
   "pygments_lexer": "ipython3",
   "version": "3.8.5"
  }
 },
 "nbformat": 4,
 "nbformat_minor": 4
}
