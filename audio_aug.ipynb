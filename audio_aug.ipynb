{
 "cells": [
  {
   "cell_type": "code",
   "execution_count": 1,
   "metadata": {},
   "outputs": [],
   "source": [
    "import librosa\n",
    "import numpy as np\n",
    "import matplotlib"
   ]
  },
  {
   "cell_type": "code",
   "execution_count": 11,
   "metadata": {},
   "outputs": [],
   "source": [
    "### 만약 librosa 버전이 0.8.0 이라면 이 패키지를 임폴트해야함.\n",
    "\n",
    "import soundfile as sf"
   ]
  },
  {
   "cell_type": "code",
   "execution_count": 10,
   "metadata": {},
   "outputs": [
    {
     "name": "stdout",
     "output_type": "stream",
     "text": [
      "0.8.0\n"
     ]
    }
   ],
   "source": [
    "print(librosa.__version__)"
   ]
  },
  {
   "cell_type": "code",
   "execution_count": 2,
   "metadata": {},
   "outputs": [],
   "source": [
    "audio = './0001-1.wav'"
   ]
  },
  {
   "cell_type": "code",
   "execution_count": 14,
   "metadata": {},
   "outputs": [],
   "source": [
    "#1개의 데이터에만 적용\n",
    "#백색잡음 추가(white noise)\n",
    "#sr은 임의의 22050 우리의 데이터 맞추면 될 것같습돠\n",
    "\n",
    "def add_white_noise(data, sr=22050, noise_rate=0.005):\n",
    "    y, sr = librosa.load(data)\n",
    "    wn = np.random.randn(len(y))\n",
    "    y_wn = y + noise_rate*wn\n",
    "    sf.write('./wn_example.wav', y_wn, sr) \n",
    "    print('White Noise 저장 성공')"
   ]
  },
  {
   "cell_type": "code",
   "execution_count": 15,
   "metadata": {},
   "outputs": [
    {
     "name": "stdout",
     "output_type": "stream",
     "text": [
      "White Noise 저장 성공\n"
     ]
    }
   ],
   "source": [
    "add_white_noise(audio)"
   ]
  },
  {
   "cell_type": "code",
   "execution_count": 16,
   "metadata": {},
   "outputs": [],
   "source": [
    "#1개의 데이터에만 적용\n",
    "#0.8배속(change speed)\n",
    "\n",
    "def stretch_sound(data, sr=22050, rate=0.8):\n",
    "    y, sr = librosa.load(data)\n",
    "    stretch_data = librosa.effects.time_stretch(y, rate)\n",
    "    sf.write('./cs_example.wav', stretch_data, sr)\n",
    "    print('stretch_data 저장 성공')"
   ]
  },
  {
   "cell_type": "code",
   "execution_count": 17,
   "metadata": {},
   "outputs": [
    {
     "name": "stdout",
     "output_type": "stream",
     "text": [
      "stretch_data 저장 성공\n"
     ]
    }
   ],
   "source": [
    "stretch_sound(audio)"
   ]
  },
  {
   "cell_type": "code",
   "execution_count": 21,
   "metadata": {},
   "outputs": [],
   "source": [
    "#1개의 데이터에만 적용\n",
    "#pitch 변경(steps를 +를 줘야할지, -를 줘야할지 잘.... 주로 -5?)\n",
    "\n",
    "def pitch(data, sr=22050, n_steps=-5):\n",
    "    y, sr = librosa.load(data)\n",
    "    pitch_data = librosa.effects.pitch_shift(y, sr, n_steps)\n",
    "    sf.write('./cp_example.wav', pitch_data, sr)\n",
    "    print('stretch_data 저장 성공')"
   ]
  },
  {
   "cell_type": "code",
   "execution_count": 22,
   "metadata": {},
   "outputs": [
    {
     "name": "stdout",
     "output_type": "stream",
     "text": [
      "stretch_data 저장 성공\n"
     ]
    }
   ],
   "source": [
    "pitch(audio)"
   ]
  },
  {
   "cell_type": "code",
   "execution_count": 29,
   "metadata": {},
   "outputs": [],
   "source": [
    "#1개의 데이터에만 적용\n",
    "#Time Shifting\n",
    "\n",
    "def shifting_sound(data, sr=22050, roll_rate=0.1):\n",
    "    y, sr = librosa.load(data)\n",
    "    data_roll = np.roll(y, int(sr*roll_rate))\n",
    "    sf.write('./ts_example.wav', data_roll, sr)\n",
    "    print('rolling_sound 저장 성공')"
   ]
  },
  {
   "cell_type": "code",
   "execution_count": 30,
   "metadata": {},
   "outputs": [
    {
     "name": "stdout",
     "output_type": "stream",
     "text": [
      "rolling_sound 저장 성공\n"
     ]
    }
   ],
   "source": [
    "shifting_sound(audio)"
   ]
  },
  {
   "cell_type": "code",
   "execution_count": 35,
   "metadata": {},
   "outputs": [],
   "source": [
    "#1개의 데이터에만 적용\n",
    "#Reverse sound\n",
    "\n",
    "def reverse_sound(data, sr=22050):\n",
    "    y, sr = librosa.load(data)\n",
    "    reverse_y = np.array([y[len(y)-1-i] for i in range(len(y))])\n",
    "    sf.write('./rs_example.wav', reverse_y, sr)\n",
    "    print('reverse_sound 저장 성공')"
   ]
  },
  {
   "cell_type": "code",
   "execution_count": 36,
   "metadata": {
    "scrolled": true
   },
   "outputs": [
    {
     "name": "stdout",
     "output_type": "stream",
     "text": [
      "reverse_sound 저장 성공\n"
     ]
    }
   ],
   "source": [
    "reverse_sound(audio)"
   ]
  },
  {
   "cell_type": "code",
   "execution_count": 40,
   "metadata": {},
   "outputs": [],
   "source": [
    "#1개의 데이터에만 적용\n",
    "#minus(위아래 높낮이 바꾸기(뒤집기))\n",
    "\n",
    "def minus_sound(data, sr=22050):\n",
    "    y, sr = librosa.load(data)\n",
    "    temp_y = (-1)*y\n",
    "    sf.write('./minus_example.wav', temp_y, sr)\n",
    "    print('rever_높낮이 저장 성공')"
   ]
  },
  {
   "cell_type": "code",
   "execution_count": 41,
   "metadata": {},
   "outputs": [
    {
     "name": "stdout",
     "output_type": "stream",
     "text": [
      "rever_높낮이 저장 성공\n"
     ]
    }
   ],
   "source": [
    "minus_sound(audio)"
   ]
  },
  {
   "cell_type": "code",
   "execution_count": null,
   "metadata": {},
   "outputs": [],
   "source": [
    "### 기존 train/val 데이터의 7배 증강\n",
    "### 6가지 방법 중 뭔가 느낌이 증강을 한다고 과연 좋을까란 의문이 듬. 속도같은경우도 배속을 빠르게보단 느리게가 좋을 것같아서 0.8로했고,\n",
    "### reverse sound에 대해서도 의문, 잡음이 많이 없는데 백색잡음이 좋을지에 대해서도, 주파수 위아래를 뒤집는 것도 좋을지에 대해 의문..\n",
    "### test 셋을 20% 떼내고 나머지 데이터에 대해 csv 경로 파일에서 for문을 통해 모든 데이터에 적용가능.\n",
    "### 그 후 증강된 데이터셋에 대해 새로 csv 경로 및 레이블 파일 작성.."
   ]
  }
 ],
 "metadata": {
  "kernelspec": {
   "display_name": "Python 3 (ipykernel)",
   "language": "python",
   "name": "python3"
  },
  "language_info": {
   "codemirror_mode": {
    "name": "ipython",
    "version": 3
   },
   "file_extension": ".py",
   "mimetype": "text/x-python",
   "name": "python",
   "nbconvert_exporter": "python",
   "pygments_lexer": "ipython3",
   "version": "3.8.5"
  }
 },
 "nbformat": 4,
 "nbformat_minor": 4
}
